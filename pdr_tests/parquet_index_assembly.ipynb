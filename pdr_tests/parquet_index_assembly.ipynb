{
 "cells": [
  {
   "cell_type": "code",
   "execution_count": 2,
   "id": "b636c854",
   "metadata": {},
   "outputs": [],
   "source": [
    "import csv\n",
    "import os\n",
    "import re\n",
    "from pathlib import Path\n",
    "\n",
    "from astropy.io import fits as pyfits\n",
    "import numpy as np\n",
    "import pandas as pd\n",
    "import pyarrow as pa \n",
    "from pyarrow import parquet"
   ]
  },
  {
   "cell_type": "code",
   "execution_count": 3,
   "id": "9a183460",
   "metadata": {},
   "outputs": [],
   "source": [
    "nav = parquet.read_table('node_manifests/img_jpl_msl_navcam.parquet')"
   ]
  },
  {
   "cell_type": "code",
   "execution_count": 4,
   "id": "49b5827d",
   "metadata": {},
   "outputs": [],
   "source": [
    "mst = parquet.read_table('node_manifests/img_jpl_msl_mastcam.parquet')"
   ]
  },
  {
   "cell_type": "code",
   "execution_count": 9,
   "id": "92fb2004",
   "metadata": {},
   "outputs": [],
   "source": [
    "del nav"
   ]
  },
  {
   "cell_type": "code",
   "execution_count": 8,
   "id": "f5ba39c5",
   "metadata": {},
   "outputs": [],
   "source": [
    "mst = mst.to_pandas()"
   ]
  },
  {
   "cell_type": "code",
   "execution_count": 13,
   "id": "6b0af10e",
   "metadata": {},
   "outputs": [],
   "source": [
    "mst = mst.loc[mst['filename'].str.endswith('IMG')].copy()"
   ]
  },
  {
   "cell_type": "code",
   "execution_count": 15,
   "id": "a6f528ff",
   "metadata": {},
   "outputs": [],
   "source": [
    "mst = mst.loc[mst['url'].str.contains('/RDR/')].copy()"
   ]
  },
  {
   "cell_type": "code",
   "execution_count": 18,
   "id": "a754917e",
   "metadata": {},
   "outputs": [
    {
     "data": {
      "text/plain": [
       "array(['0001', '0014', '0013', ..., '3066', '3061', '3067'], dtype=object)"
      ]
     },
     "execution_count": 18,
     "metadata": {},
     "output_type": "execute_result"
    }
   ],
   "source": [
    "mst['filename'].str.slice(0,4).unique()"
   ]
  },
  {
   "cell_type": "code",
   "execution_count": 30,
   "id": "d4be12fc",
   "metadata": {},
   "outputs": [
    {
     "data": {
      "text/plain": [
       "3223       0001ML0000000010100001C00_DRCL.IMG\n",
       "3225       0001ML0000000010100001C00_DRCX.IMG\n",
       "3226       0001ML0000000010100001C00_DRXX.IMG\n",
       "3227       0001ML0000000010100001C00_DRLX.IMG\n",
       "3228       0001ML0000000010100001I01_DRCL.IMG\n",
       "                          ...                \n",
       "8048744    3067MR0160220271400054C00_DRXX.IMG\n",
       "8048747    3067MR0160220271400054I01_DRCL.IMG\n",
       "8048748    3067MR0160220271400054I01_DRCX.IMG\n",
       "8048750    3067MR0160220271400054I01_DRXX.IMG\n",
       "8048751    3067MR0160220271400054I01_DRLX.IMG\n",
       "Name: filename, Length: 1237422, dtype: object"
      ]
     },
     "execution_count": 30,
     "metadata": {},
     "output_type": "execute_result"
    }
   ],
   "source": [
    "mst['filename']"
   ]
  },
  {
   "cell_type": "code",
   "execution_count": 37,
   "id": "a40c0da4",
   "metadata": {},
   "outputs": [],
   "source": [
    "prod = mst['filename'].str.slice(-12,-11)\n",
    "proc = mst['filename'].str.slice(-8,-4)"
   ]
  },
  {
   "cell_type": "code",
   "execution_count": 38,
   "id": "b83d2f30",
   "metadata": {},
   "outputs": [],
   "source": [
    "combo = pd.concat([prod, proc], axis=1)"
   ]
  },
  {
   "cell_type": "code",
   "execution_count": null,
   "id": "b492de5e",
   "metadata": {},
   "outputs": [],
   "source": []
  },
  {
   "cell_type": "code",
   "execution_count": 29,
   "id": "f807eb39",
   "metadata": {},
   "outputs": [
    {
     "data": {
      "text/plain": [
       "array(['DRCL', 'DRCX', 'DRXX', 'DRLX'], dtype=object)"
      ]
     },
     "execution_count": 29,
     "metadata": {},
     "output_type": "execute_result"
    }
   ],
   "source": [
    "mst['filename'].str.slice(-8,-4).unique()"
   ]
  },
  {
   "cell_type": "code",
   "execution_count": 2,
   "id": "4efcabbd",
   "metadata": {},
   "outputs": [],
   "source": [
    "csv_manifest_file = 'node_manifests/img_jpl_scraper.csv'\n",
    "# this size seems fairly optimal for this case as a balance between\n",
    "# load speed and memory efficiency\n",
    "row_group_size = 100000\n",
    "filename = f'{Path(csv_manifest_file).stem.replace(\"_scraper\", \"\")}.parquet'"
   ]
  },
  {
   "cell_type": "code",
   "execution_count": null,
   "id": "9cd8e64d",
   "metadata": {},
   "outputs": [],
   "source": [
    "f = open(csv_manifest_file)\n",
    "reader = csv.DictReader(\n",
    "    f,\n",
    "    fieldnames = ('url', 'size', 'units')\n",
    ")\n",
    "next(reader)  # skip header\n",
    "lines = []"
   ]
  },
  {
   "cell_type": "code",
   "execution_count": null,
   "id": "480d4a5e",
   "metadata": {},
   "outputs": [],
   "source": [
    "i = 0\n",
    "for row in reader:\n",
    "    if ('MSLMRD' not in row['url']):\n",
    "        continue\n",
    "    del row['units']\n",
    "    lines.append(row)\n",
    "    i += 1\n",
    "    if i % 1000000 == 0:\n",
    "        print(i)"
   ]
  },
  {
   "cell_type": "code",
   "execution_count": null,
   "id": "b9eceade",
   "metadata": {},
   "outputs": [],
   "source": [
    "len(lines)"
   ]
  },
  {
   "cell_type": "code",
   "execution_count": null,
   "id": "0c0dd9ec",
   "metadata": {},
   "outputs": [],
   "source": [
    "lines[-10:]"
   ]
  },
  {
   "cell_type": "code",
   "execution_count": null,
   "id": "be447be4",
   "metadata": {},
   "outputs": [],
   "source": [
    "lines[30000]"
   ]
  },
  {
   "cell_type": "code",
   "execution_count": null,
   "id": "ccfde18f",
   "metadata": {},
   "outputs": [],
   "source": [
    "import pickle"
   ]
  },
  {
   "cell_type": "code",
   "execution_count": null,
   "id": "784cefb1",
   "metadata": {},
   "outputs": [],
   "source": [
    "# with open('temp.pkl', 'wb+') as file:\n",
    "#     pickle.dump(lines, file)"
   ]
  },
  {
   "cell_type": "code",
   "execution_count": null,
   "id": "8a0715d8",
   "metadata": {},
   "outputs": [],
   "source": [
    "with open('temp.pkl', 'rb') as file:\n",
    "    lines = pickle.load(file)"
   ]
  },
  {
   "cell_type": "code",
   "execution_count": null,
   "id": "3c1aca59",
   "metadata": {},
   "outputs": [],
   "source": [
    "df = pd.DataFrame.from_dict(lines)"
   ]
  },
  {
   "cell_type": "code",
   "execution_count": null,
   "id": "9986808c",
   "metadata": {},
   "outputs": [],
   "source": [
    "del lines"
   ]
  },
  {
   "cell_type": "code",
   "execution_count": null,
   "id": "9f4bebc8",
   "metadata": {},
   "outputs": [],
   "source": [
    "# df = pd.read_csv(\n",
    "#     csv_manifest_file, \n",
    "#     header = 0, \n",
    "#     dtype = {'url': str, 'size': str, 'units': str},\n",
    "#     names = ('url', 'size', 'units')\n",
    "# )\n",
    "# find and print missing-size entries\n",
    "missing = df.loc[\n",
    "    np.logical_or(\n",
    "        df['size'] == 'ErrorLogged',\n",
    "        df['size'].isna()\n",
    "    )\n",
    "]\n",
    "print(missing['url'].values)\n"
   ]
  },
  {
   "cell_type": "code",
   "execution_count": null,
   "id": "a5217756",
   "metadata": {},
   "outputs": [],
   "source": [
    "len(missing)"
   ]
  },
  {
   "cell_type": "code",
   "execution_count": null,
   "id": "e79d0f83",
   "metadata": {},
   "outputs": [],
   "source": [
    "df.to_csv(\"missing_mrd.csv\", index=None)"
   ]
  },
  {
   "cell_type": "code",
   "execution_count": null,
   "id": "3aa77872",
   "metadata": {},
   "outputs": [],
   "source": [
    "# trim missing-size entries and units column\n",
    "df = df.drop(missing.index)\n",
    "# df = df.drop(columns='units')\n",
    "df = df.loc[df['size'] != 'ErrorLogged'].reset_index(drop=True)\n",
    "df['size'] = df['size'].astype(int)"
   ]
  },
  {
   "cell_type": "code",
   "execution_count": null,
   "id": "9e99b63e",
   "metadata": {},
   "outputs": [],
   "source": [
    "# chop off protocol string \n",
    "df['url'] = df['url'].str.replace(\"http://\", \"\")\n",
    "df['url'] = df['url'].str.replace(\"https://\", \"\")"
   ]
  },
  {
   "cell_type": "code",
   "execution_count": null,
   "id": "e112895c",
   "metadata": {},
   "outputs": [],
   "source": [
    "df.to_csv('intermediate.csv', index=False)"
   ]
  },
  {
   "cell_type": "code",
   "execution_count": null,
   "id": "988de0dd",
   "metadata": {},
   "outputs": [],
   "source": [
    "df = pd.read_csv('intermediate.csv')"
   ]
  },
  {
   "cell_type": "code",
   "execution_count": null,
   "id": "cb38c173",
   "metadata": {},
   "outputs": [],
   "source": [
    "# split url to parts by '/'; keep the first part (domain) \n",
    "# and the last (filename) separate from the rest (url)\n",
    "fn_url = df['url'].str.rsplit('/', n=1, expand=True)\n",
    "domain_url = fn_url[0].str.split('/', n=1, expand=True)"
   ]
  },
  {
   "cell_type": "code",
   "execution_count": null,
   "id": "b91f27a1",
   "metadata": {},
   "outputs": [],
   "source": [
    "df[['domain', 'url']] = domain_url\n",
    "del domain_url\n",
    "df['filename'] = fn_url[1]\n",
    "del fn_url\n",
    "df = df.reindex(columns=['domain', 'url', 'filename', 'size'])"
   ]
  },
  {
   "cell_type": "code",
   "execution_count": null,
   "id": "5f2b58db",
   "metadata": {},
   "outputs": [],
   "source": [
    "df.to_csv('intermediate2.csv', index=False)"
   ]
  },
  {
   "cell_type": "code",
   "execution_count": null,
   "id": "4b9ee73d",
   "metadata": {},
   "outputs": [],
   "source": [
    "df = pd.read_csv('intermediate2.csv')"
   ]
  },
  {
   "cell_type": "code",
   "execution_count": null,
   "id": "b944ad4e",
   "metadata": {},
   "outputs": [],
   "source": []
  },
  {
   "cell_type": "code",
   "execution_count": null,
   "id": "9b5b9621",
   "metadata": {},
   "outputs": [],
   "source": [
    "# assemble a reasonable table schema\n",
    "index_schema = pa.schema([\n",
    "    (column, pa.string()) \n",
    "    if column != 'size'\n",
    "    else (column, pa.uint64())\n",
    "    for column in df.columns \n",
    "])\n",
    "arrays = {\n",
    "    field.name: df[field.name].astype(str(field.type)) \n",
    "    for field in index_schema\n",
    "}\n",
    "# dump arrays into a pyarrow table\n",
    "index_table = pa.Table.from_arrays(\n",
    "    list(arrays.values()), list(arrays.keys())\n",
    ")\n",
    "# write that table to a parquet file\n",
    "parquet.write_table(\n",
    "    index_table,\n",
    "    Path(\"node_manifests\", \"img_jpl_msl_mrd.parquet\"),\n",
    "    version='2.6',\n",
    "    row_group_size=row_group_size,\n",
    "    use_dictionary=['domain', 'url', 'size']\n",
    ")"
   ]
  },
  {
   "cell_type": "code",
   "execution_count": null,
   "id": "d9380d6d",
   "metadata": {},
   "outputs": [],
   "source": [
    "parquet.read_table('node_manifests/img_jpl_msl_mahli.parquet')"
   ]
  },
  {
   "cell_type": "code",
   "execution_count": 3,
   "id": "225b6bf8",
   "metadata": {},
   "outputs": [],
   "source": [
    "# should you wish to concatenate multiple parquet files\n",
    "tabs = [\n",
    "    parquet.read_table(f'node_manifests/img_jpl_msl_{ds}.parquet')\n",
    "    for ds in [\n",
    "        'navcam', \n",
    "        'hazcam', \n",
    "        'mahli', \n",
    "        \"mastcam\", \n",
    "        \"mrd\",\n",
    "        \"etc\"\n",
    "    ]\n",
    "]\n",
    "bigtab = pa.concat_tables(tabs)\n",
    "bigname = 'img_jpl_msl.parquet'\n",
    "parquet.write_table(\n",
    "    bigtab, \n",
    "    Path(\"node_manifests\", bigname),\n",
    "    row_group_size=row_group_size,\n",
    "    version = \"2.6\",\n",
    "    use_dictionary = ['domain', 'url', 'size']\n",
    ")"
   ]
  },
  {
   "cell_type": "code",
   "execution_count": 6,
   "id": "b959960b",
   "metadata": {},
   "outputs": [
    {
     "data": {
      "text/plain": [
       "39.385428"
      ]
     },
     "execution_count": 6,
     "metadata": {},
     "output_type": "execute_result"
    }
   ],
   "source": []
  }
 ],
 "metadata": {
  "kernelspec": {
   "display_name": "Python 3 (ipykernel)",
   "language": "python",
   "name": "python3"
  },
  "language_info": {
   "codemirror_mode": {
    "name": "ipython",
    "version": 3
   },
   "file_extension": ".py",
   "mimetype": "text/x-python",
   "name": "python",
   "nbconvert_exporter": "python",
   "pygments_lexer": "ipython3",
   "version": "3.9.10"
  }
 },
 "nbformat": 4,
 "nbformat_minor": 5
}
