{
 "cells": [
  {
   "cell_type": "code",
   "execution_count": null,
   "id": "b636c854",
   "metadata": {},
   "outputs": [],
   "source": [
    "import csv\n",
    "import os\n",
    "import re\n",
    "from pathlib import Path\n",
    "\n",
    "from astropy.io import fits as pyfits\n",
    "import numpy as np\n",
    "import pandas as pd\n",
    "import pyarrow as pa \n",
    "from pyarrow import parquet"
   ]
  },
  {
   "cell_type": "code",
   "execution_count": null,
   "id": "4efcabbd",
   "metadata": {},
   "outputs": [],
   "source": [
    "csv_manifest_file = 'node_manifests/geomro_size_corrected.csv'\n",
    "# this size seems fairly optimal for this case as a balance between\n",
    "# load speed and memory efficiency\n",
    "row_group_size = 100000\n",
    "filename = f'{Path(csv_manifest_file).stem.replace(\"_size_corrected\", \"\")}.parquet'"
   ]
  },
  {
   "cell_type": "code",
   "execution_count": null,
   "id": "9f4bebc8",
   "metadata": {},
   "outputs": [],
   "source": [
    "df = pd.read_csv(\n",
    "    csv_manifest_file, \n",
    "    header = 0, \n",
    "    dtype = {'url': str, 'size': str, 'units': str},\n",
    "    names = ('url', 'size', 'units')\n",
    ")\n",
    "# find and print missing-size entries\n",
    "missing = df.loc[\n",
    "    np.logical_or(\n",
    "        df['size'] == 'ErrorLogged',\n",
    "        df['size'].isna()\n",
    "    )\n",
    "]\n",
    "print(missing['url'].values)\n"
   ]
  },
  {
   "cell_type": "code",
   "execution_count": null,
   "id": "b91f27a1",
   "metadata": {},
   "outputs": [],
   "source": [
    "# trim missing-size entries and units column\n",
    "df = df.drop(missing.index)\n",
    "df = df.drop(columns='units')\n",
    "df = df.loc[df['size'] != 'ErrorLogged'].reset_index(drop=True)\n",
    "\n",
    "# chop off protocol string \n",
    "df['url'] = df['url'].str.replace(\"http://\", \"\")\n",
    "df['url'] = df['url'].str.replace(\"https://\", \"\")\n",
    "\n",
    "# split url to parts by '/'; keep the first part (domain) \n",
    "# and the last (filename) separate from the rest (url)\n",
    "fn_url = df['url'].str.rsplit('/', n=1, expand=True)\n",
    "domain_url = fn_url[0].str.split('/', n=1, expand=True)\n",
    "df[['domain', 'url']] = domain_url\n",
    "df['filename'] = fn_url[1]\n",
    "del domain_url\n",
    "del fn_url\n",
    "df = df.reindex(columns=['domain', 'url', 'filename', 'size'])"
   ]
  },
  {
   "cell_type": "code",
   "execution_count": null,
   "id": "9b5b9621",
   "metadata": {},
   "outputs": [],
   "source": [
    "# assemble a reasonable table schema\n",
    "index_schema = pa.schema([\n",
    "    (column, pa.string()) \n",
    "    if column != 'size'\n",
    "    else (column, pa.uint64())\n",
    "    for column in df.columns \n",
    "])\n",
    "arrays = {\n",
    "    field.name: df[field.name].astype(str(field.type)) \n",
    "    for field in index_schema\n",
    "}\n",
    "# dump arrays into a pyarrow table\n",
    "index_table = pa.Table.from_arrays(\n",
    "    list(arrays.values()), list(arrays.keys())\n",
    ")\n",
    "# write that table to a parquet file\n",
    "parquet.write_table(\n",
    "    index_table,\n",
    "    Path(\"node_manifests\", filename),\n",
    "    version='2.6',\n",
    "    row_group_size=row_group_size,\n",
    "    use_dictionary=['domain', 'url', 'size']\n",
    ")"
   ]
  },
  {
   "cell_type": "code",
   "execution_count": null,
   "id": "225b6bf8",
   "metadata": {},
   "outputs": [],
   "source": [
    "# should you wish to concatenate multiple parquet files\n",
    "tabs = [\n",
    "    parquet.read_table(f'img_lroc_{ds}.parquet')\n",
    "    for ds in ['cdr', 'edr', 'rdr']\n",
    "]\n",
    "bigtab = pa.concat_tables(tabs)\n",
    "bigname = 'img_lroc.parquet'\n",
    "parquet.write_table(\n",
    "    bigtab, \n",
    "    Path(\"node_manifests\", bigname),\n",
    "    row_group_size=row_group_size,\n",
    "    version = \"2.6\",\n",
    "    use_dictionary = ['domain', 'url', 'size']\n",
    ")"
   ]
  }
 ],
 "metadata": {
  "kernelspec": {
   "display_name": "Python 3 (ipykernel)",
   "language": "python",
   "name": "python3"
  },
  "language_info": {
   "codemirror_mode": {
    "name": "ipython",
    "version": 3
   },
   "file_extension": ".py",
   "mimetype": "text/x-python",
   "name": "python",
   "nbconvert_exporter": "python",
   "pygments_lexer": "ipython3",
   "version": "3.9.7"
  }
 },
 "nbformat": 4,
 "nbformat_minor": 5
}
