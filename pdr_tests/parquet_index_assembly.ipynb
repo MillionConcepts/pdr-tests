{
 "cells": [
  {
   "cell_type": "code",
   "execution_count": 21,
   "id": "b636c854",
   "metadata": {},
   "outputs": [],
   "source": [
    "import csv\n",
    "import os\n",
    "import re\n",
    "from pathlib import Path\n",
    "\n",
    "from astropy.io import fits as pyfits\n",
    "import numpy as np\n",
    "import pandas as pd\n",
    "import pyarrow as pa \n",
    "from pyarrow import parquet"
   ]
  },
  {
   "cell_type": "code",
   "execution_count": 3,
   "id": "9a183460",
   "metadata": {
    "jupyter": {
     "source_hidden": true
    },
    "tags": []
   },
   "outputs": [],
   "source": [
    "nav = parquet.read_table('node_manifests/img_jpl_msl_navcam.parquet')"
   ]
  },
  {
   "cell_type": "code",
   "execution_count": 4,
   "id": "49b5827d",
   "metadata": {
    "jupyter": {
     "source_hidden": true
    },
    "tags": []
   },
   "outputs": [],
   "source": [
    "mst = parquet.read_table('node_manifests/img_jpl_msl_mastcam.parquet')"
   ]
  },
  {
   "cell_type": "code",
   "execution_count": 9,
   "id": "92fb2004",
   "metadata": {
    "jupyter": {
     "source_hidden": true
    },
    "tags": []
   },
   "outputs": [],
   "source": [
    "del nav"
   ]
  },
  {
   "cell_type": "code",
   "execution_count": 8,
   "id": "f5ba39c5",
   "metadata": {
    "jupyter": {
     "source_hidden": true
    },
    "tags": []
   },
   "outputs": [],
   "source": [
    "mst = mst.to_pandas()"
   ]
  },
  {
   "cell_type": "code",
   "execution_count": 13,
   "id": "6b0af10e",
   "metadata": {
    "jupyter": {
     "source_hidden": true
    },
    "tags": []
   },
   "outputs": [],
   "source": [
    "mst = mst.loc[mst['filename'].str.endswith('IMG')].copy()"
   ]
  },
  {
   "cell_type": "code",
   "execution_count": 15,
   "id": "a6f528ff",
   "metadata": {
    "jupyter": {
     "source_hidden": true
    },
    "tags": []
   },
   "outputs": [],
   "source": [
    "mst = mst.loc[mst['url'].str.contains('/RDR/')].copy()"
   ]
  },
  {
   "cell_type": "code",
   "execution_count": 18,
   "id": "a754917e",
   "metadata": {
    "collapsed": true,
    "jupyter": {
     "outputs_hidden": true,
     "source_hidden": true
    },
    "tags": []
   },
   "outputs": [
    {
     "data": {
      "text/plain": [
       "array(['0001', '0014', '0013', ..., '3066', '3061', '3067'], dtype=object)"
      ]
     },
     "execution_count": 18,
     "metadata": {},
     "output_type": "execute_result"
    }
   ],
   "source": [
    "mst['filename'].str.slice(0,4).unique()"
   ]
  },
  {
   "cell_type": "code",
   "execution_count": 30,
   "id": "d4be12fc",
   "metadata": {
    "collapsed": true,
    "jupyter": {
     "outputs_hidden": true,
     "source_hidden": true
    },
    "tags": []
   },
   "outputs": [
    {
     "data": {
      "text/plain": [
       "3223       0001ML0000000010100001C00_DRCL.IMG\n",
       "3225       0001ML0000000010100001C00_DRCX.IMG\n",
       "3226       0001ML0000000010100001C00_DRXX.IMG\n",
       "3227       0001ML0000000010100001C00_DRLX.IMG\n",
       "3228       0001ML0000000010100001I01_DRCL.IMG\n",
       "                          ...                \n",
       "8048744    3067MR0160220271400054C00_DRXX.IMG\n",
       "8048747    3067MR0160220271400054I01_DRCL.IMG\n",
       "8048748    3067MR0160220271400054I01_DRCX.IMG\n",
       "8048750    3067MR0160220271400054I01_DRXX.IMG\n",
       "8048751    3067MR0160220271400054I01_DRLX.IMG\n",
       "Name: filename, Length: 1237422, dtype: object"
      ]
     },
     "execution_count": 30,
     "metadata": {},
     "output_type": "execute_result"
    }
   ],
   "source": [
    "mst['filename']"
   ]
  },
  {
   "cell_type": "code",
   "execution_count": 37,
   "id": "a40c0da4",
   "metadata": {
    "jupyter": {
     "source_hidden": true
    },
    "tags": []
   },
   "outputs": [],
   "source": [
    "prod = mst['filename'].str.slice(-12,-11)\n",
    "proc = mst['filename'].str.slice(-8,-4)"
   ]
  },
  {
   "cell_type": "code",
   "execution_count": 38,
   "id": "b83d2f30",
   "metadata": {
    "jupyter": {
     "source_hidden": true
    },
    "tags": []
   },
   "outputs": [],
   "source": [
    "combo = pd.concat([prod, proc], axis=1)"
   ]
  },
  {
   "cell_type": "code",
   "execution_count": null,
   "id": "b492de5e",
   "metadata": {
    "jupyter": {
     "source_hidden": true
    },
    "tags": []
   },
   "outputs": [],
   "source": []
  },
  {
   "cell_type": "code",
   "execution_count": 29,
   "id": "f807eb39",
   "metadata": {
    "collapsed": true,
    "jupyter": {
     "outputs_hidden": true,
     "source_hidden": true
    },
    "tags": []
   },
   "outputs": [
    {
     "data": {
      "text/plain": [
       "array(['DRCL', 'DRCX', 'DRXX', 'DRLX'], dtype=object)"
      ]
     },
     "execution_count": 29,
     "metadata": {},
     "output_type": "execute_result"
    }
   ],
   "source": [
    "mst['filename'].str.slice(-8,-4).unique()"
   ]
  },
  {
   "cell_type": "code",
   "execution_count": 22,
   "id": "4efcabbd",
   "metadata": {},
   "outputs": [],
   "source": [
    "csv_manifest_file = 'geomex_size_corrected.csv'\n",
    "# this size seems fairly optimal for this case as a balance between\n",
    "# load speed and memory efficiency\n",
    "row_group_size = 100000\n",
    "filename = f'{Path(csv_manifest_file).stem.replace(\"_size_corrected\", \"\")}.parquet'"
   ]
  },
  {
   "cell_type": "code",
   "execution_count": 23,
   "id": "9cd8e64d",
   "metadata": {},
   "outputs": [],
   "source": [
    "f = open(csv_manifest_file)\n",
    "reader = csv.DictReader(\n",
    "    f,\n",
    "    fieldnames = ('url', 'size', 'units')\n",
    ")\n",
    "next(reader)  # skip header\n",
    "lines = []"
   ]
  },
  {
   "cell_type": "code",
   "execution_count": 24,
   "id": "480d4a5e",
   "metadata": {},
   "outputs": [
    {
     "name": "stdout",
     "output_type": "stream",
     "text": [
      "1000000\n",
      "2000000\n",
      "3000000\n",
      "4000000\n",
      "5000000\n",
      "6000000\n",
      "7000000\n"
     ]
    }
   ],
   "source": [
    "i = 0\n",
    "for row in reader:\n",
    "    del row['units']\n",
    "    lines.append(row)\n",
    "    i += 1\n",
    "    if i % 1000000 == 0:\n",
    "        print(i)"
   ]
  },
  {
   "cell_type": "code",
   "execution_count": 25,
   "id": "b9eceade",
   "metadata": {},
   "outputs": [
    {
     "data": {
      "text/plain": [
       "7733800"
      ]
     },
     "execution_count": 25,
     "metadata": {},
     "output_type": "execute_result"
    }
   ],
   "source": [
    "len(lines)"
   ]
  },
  {
   "cell_type": "code",
   "execution_count": 26,
   "id": "0c0dd9ec",
   "metadata": {},
   "outputs": [
    {
     "data": {
      "text/plain": [
       "[{'url': 'https://pds-geosciences.wustl.edu/mex/mex-y-m-spi-2-uvedr-rawxcru-mars-v2/mexspi_2100/software/spicam_readpds.lbl',\n",
       "  'size': '4834'},\n",
       " {'url': 'https://pds-geosciences.wustl.edu/mex/mex-y-m-spi-2-uvedr-rawxcru-mars-v2/mexspi_2100/geometry/mars/mtp019_02285_02384/spim_0au_02380a01_s_go_01.txt',\n",
       "  'size': '346608'},\n",
       " {'url': 'https://pds-geosciences.wustl.edu/mex/mex-y-m-spi-2-uvedr-rawxcru-mars-v2/mexspi_2100/geometry/mars/mtp019_02285_02384/spim_0au_02381a02_e_go_01.txt',\n",
       "  'size': '588055'},\n",
       " {'url': 'https://pds-geosciences.wustl.edu/mex/mex-y-m-spi-2-uvedr-rawxcru-mars-v2/mexspi_2100/geometry/mars/mtp019_02285_02384/spim_0au_02382a01_e_go_01.txt',\n",
       "  'size': '588055'},\n",
       " {'url': 'https://pds-geosciences.wustl.edu/mex/mex-y-m-spi-2-uvedr-rawxcru-mars-v2/mexspi_2100/geometry/mars/mtp019_02285_02384/spim_0au_02382a02_n_go_01.txt',\n",
       "  'size': '1525853'},\n",
       " {'url': 'https://pds-geosciences.wustl.edu/mex/mex-y-m-spi-2-uvedr-rawxcru-mars-v2/mexspi_2100/geometry/mars/mtp019_02285_02384/spim_0au_02381a01_p_go_01.txt',\n",
       "  'size': '479753'},\n",
       " {'url': 'https://pds-geosciences.wustl.edu/mex/mex-y-m-spi-2-uvedr-rawxcru-mars-v2/mexspi_2100/geometry/mars/mtp019_02285_02384/spim_0au_02383a01_e_go_01.txt',\n",
       "  'size': '588055'},\n",
       " {'url': 'https://pds-geosciences.wustl.edu/mex/mex-y-m-spi-2-uvedr-rawxcru-mars-v2/mexspi_2100/geometry/mars/mtp019_02285_02384/spim_0au_02383a02_n_go_01.txt',\n",
       "  'size': '1525853'},\n",
       " {'url': 'https://pds-geosciences.wustl.edu/mex/mex-y-m-spi-2-uvedr-rawxcru-mars-v2/mexspi_2100/geometry/mars/mtp019_02285_02384/spim_0au_02384a02_n_go_01.txt',\n",
       "  'size': '1525853'},\n",
       " {'url': 'https://pds-geosciences.wustl.edu/mex/mex-y-m-spi-2-uvedr-rawxcru-mars-v2/mexspi_2100/geometry/mars/mtp019_02285_02384/spim_0au_02384a01_s_go_01.txt',\n",
       "  'size': '346608'}]"
      ]
     },
     "execution_count": 26,
     "metadata": {},
     "output_type": "execute_result"
    }
   ],
   "source": [
    "lines[-10:]"
   ]
  },
  {
   "cell_type": "code",
   "execution_count": 27,
   "id": "be447be4",
   "metadata": {},
   "outputs": [
    {
     "data": {
      "text/plain": [
       "{'url': 'https://pds-geosciences.wustl.edu/mex/mex-m-aspera3-2-edr-els-ext1-v1/mexasp_1101/data/els_edr_l1b_2006_01/elsscih20060210429c_accs01.csv',\n",
       " 'size': '27100085'}"
      ]
     },
     "execution_count": 27,
     "metadata": {},
     "output_type": "execute_result"
    }
   ],
   "source": [
    "lines[30000]"
   ]
  },
  {
   "cell_type": "code",
   "execution_count": 28,
   "id": "ccfde18f",
   "metadata": {},
   "outputs": [],
   "source": [
    "import pickle"
   ]
  },
  {
   "cell_type": "code",
   "execution_count": 30,
   "id": "784cefb1",
   "metadata": {},
   "outputs": [],
   "source": [
    " with open('temp.pkl', 'wb+') as file:\n",
    "     pickle.dump(lines, file)"
   ]
  },
  {
   "cell_type": "code",
   "execution_count": 31,
   "id": "8a0715d8",
   "metadata": {},
   "outputs": [],
   "source": [
    "with open('temp.pkl', 'rb') as file:\n",
    "    lines = pickle.load(file)"
   ]
  },
  {
   "cell_type": "code",
   "execution_count": 32,
   "id": "3c1aca59",
   "metadata": {},
   "outputs": [],
   "source": [
    "df = pd.DataFrame.from_dict(lines)"
   ]
  },
  {
   "cell_type": "code",
   "execution_count": 33,
   "id": "9986808c",
   "metadata": {},
   "outputs": [],
   "source": [
    "del lines"
   ]
  },
  {
   "cell_type": "code",
   "execution_count": 34,
   "id": "9f4bebc8",
   "metadata": {},
   "outputs": [
    {
     "name": "stdout",
     "output_type": "stream",
     "text": [
      "[]\n"
     ]
    }
   ],
   "source": [
    "# df = pd.read_csv(\n",
    "#     csv_manifest_file, \n",
    "#     header = 0, \n",
    "#     dtype = {'url': str, 'size': str, 'units': str},\n",
    "#     names = ('url', 'size', 'units')\n",
    "# )\n",
    "# find and print missing-size entries\n",
    "missing = df.loc[\n",
    "    np.logical_or(\n",
    "        df['size'] == 'ErrorLogged',\n",
    "        df['size'].isna()\n",
    "    )\n",
    "]\n",
    "print(missing['url'].values)\n"
   ]
  },
  {
   "cell_type": "code",
   "execution_count": 35,
   "id": "a5217756",
   "metadata": {},
   "outputs": [
    {
     "data": {
      "text/plain": [
       "0"
      ]
     },
     "execution_count": 35,
     "metadata": {},
     "output_type": "execute_result"
    }
   ],
   "source": [
    "len(missing)"
   ]
  },
  {
   "cell_type": "code",
   "execution_count": 36,
   "id": "e79d0f83",
   "metadata": {},
   "outputs": [],
   "source": [
    "df.to_csv(\"missing_mrd.csv\", index=None)"
   ]
  },
  {
   "cell_type": "code",
   "execution_count": 37,
   "id": "3aa77872",
   "metadata": {},
   "outputs": [],
   "source": [
    "# trim missing-size entries and units column\n",
    "df = df.drop(missing.index)\n",
    "# df = df.drop(columns='units')\n",
    "df = df.loc[df['size'] != 'ErrorLogged'].reset_index(drop=True)\n",
    "df['size'] = df['size'].astype(int)"
   ]
  },
  {
   "cell_type": "code",
   "execution_count": 38,
   "id": "9e99b63e",
   "metadata": {},
   "outputs": [],
   "source": [
    "# chop off protocol string \n",
    "df['url'] = df['url'].str.replace(\"http://\", \"\")\n",
    "df['url'] = df['url'].str.replace(\"https://\", \"\")"
   ]
  },
  {
   "cell_type": "code",
   "execution_count": 39,
   "id": "e112895c",
   "metadata": {},
   "outputs": [],
   "source": [
    "df.to_csv('intermediate.csv', index=False)"
   ]
  },
  {
   "cell_type": "code",
   "execution_count": 40,
   "id": "988de0dd",
   "metadata": {},
   "outputs": [],
   "source": [
    "df = pd.read_csv('intermediate.csv')"
   ]
  },
  {
   "cell_type": "code",
   "execution_count": 41,
   "id": "cb38c173",
   "metadata": {},
   "outputs": [],
   "source": [
    "# split url to parts by '/'; keep the first part (domain) \n",
    "# and the last (filename) separate from the rest (url)\n",
    "fn_url = df['url'].str.rsplit('/', n=1, expand=True)\n",
    "domain_url = fn_url[0].str.split('/', n=1, expand=True)"
   ]
  },
  {
   "cell_type": "code",
   "execution_count": 42,
   "id": "b91f27a1",
   "metadata": {},
   "outputs": [],
   "source": [
    "df[['domain', 'url']] = domain_url\n",
    "del domain_url\n",
    "df['filename'] = fn_url[1]\n",
    "del fn_url\n",
    "df = df.reindex(columns=['domain', 'url', 'filename', 'size'])"
   ]
  },
  {
   "cell_type": "code",
   "execution_count": 43,
   "id": "5f2b58db",
   "metadata": {},
   "outputs": [],
   "source": [
    "df.to_csv('intermediate2.csv', index=False)"
   ]
  },
  {
   "cell_type": "code",
   "execution_count": 44,
   "id": "4b9ee73d",
   "metadata": {},
   "outputs": [],
   "source": [
    "df = pd.read_csv('intermediate2.csv')"
   ]
  },
  {
   "cell_type": "code",
   "execution_count": 45,
   "id": "9b5b9621",
   "metadata": {},
   "outputs": [],
   "source": [
    "# assemble a reasonable table schema\n",
    "index_schema = pa.schema([\n",
    "    (column, pa.string()) \n",
    "    if column != 'size'\n",
    "    else (column, pa.uint64())\n",
    "    for column in df.columns \n",
    "])\n",
    "arrays = {\n",
    "    field.name: df[field.name].astype(str(field.type)) \n",
    "    for field in index_schema\n",
    "}\n",
    "# dump arrays into a pyarrow table\n",
    "index_table = pa.Table.from_arrays(\n",
    "    list(arrays.values()), list(arrays.keys())\n",
    ")\n",
    "# write that table to a parquet file\n",
    "parquet.write_table(\n",
    "    index_table,\n",
    "    Path(\"node_manifests\", filename),\n",
    "    version='2.6',\n",
    "    row_group_size=row_group_size,\n",
    "    use_dictionary=['domain', 'url', 'size']\n",
    ")"
   ]
  },
  {
   "cell_type": "code",
   "execution_count": null,
   "id": "b944ad4e",
   "metadata": {},
   "outputs": [],
   "source": [
    "STOP HERE (unless you want to combine files)"
   ]
  },
  {
   "cell_type": "code",
   "execution_count": null,
   "id": "d9380d6d",
   "metadata": {
    "jupyter": {
     "source_hidden": true
    },
    "tags": []
   },
   "outputs": [],
   "source": [
    "parquet.read_table('node_manifests/img_jpl_msl_mahli.parquet')"
   ]
  },
  {
   "cell_type": "code",
   "execution_count": 3,
   "id": "225b6bf8",
   "metadata": {
    "jupyter": {
     "source_hidden": true
    },
    "tags": []
   },
   "outputs": [],
   "source": [
    "# should you wish to concatenate multiple parquet files\n",
    "tabs = [\n",
    "    parquet.read_table(f'node_manifests/img_jpl_msl_{ds}.parquet')\n",
    "    for ds in [\n",
    "        'navcam', \n",
    "        'hazcam', \n",
    "        'mahli', \n",
    "        \"mastcam\", \n",
    "        \"mrd\",\n",
    "        \"etc\"\n",
    "    ]\n",
    "]\n",
    "bigtab = pa.concat_tables(tabs)\n",
    "bigname = 'img_jpl_msl.parquet'\n",
    "parquet.write_table(\n",
    "    bigtab, \n",
    "    Path(\"node_manifests\", bigname),\n",
    "    row_group_size=row_group_size,\n",
    "    version = \"2.6\",\n",
    "    use_dictionary = ['domain', 'url', 'size']\n",
    ")"
   ]
  },
  {
   "cell_type": "code",
   "execution_count": 6,
   "id": "b959960b",
   "metadata": {
    "collapsed": true,
    "jupyter": {
     "outputs_hidden": true,
     "source_hidden": true
    },
    "tags": []
   },
   "outputs": [
    {
     "data": {
      "text/plain": [
       "39.385428"
      ]
     },
     "execution_count": 6,
     "metadata": {},
     "output_type": "execute_result"
    }
   ],
   "source": []
  }
 ],
 "metadata": {
  "kernelspec": {
   "display_name": "Python 3 (ipykernel)",
   "language": "python",
   "name": "python3"
  },
  "language_info": {
   "codemirror_mode": {
    "name": "ipython",
    "version": 3
   },
   "file_extension": ".py",
   "mimetype": "text/x-python",
   "name": "python",
   "nbconvert_exporter": "python",
   "pygments_lexer": "ipython3",
   "version": "3.10.1"
  }
 },
 "nbformat": 4,
 "nbformat_minor": 5
}
