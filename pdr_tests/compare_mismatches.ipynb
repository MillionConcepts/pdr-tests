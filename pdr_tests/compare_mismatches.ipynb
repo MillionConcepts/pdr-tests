{
 "cells": [
  {
   "cell_type": "code",
   "execution_count": 1,
   "id": "e4297d44-f0f3-402c-bd72-778c58ff002c",
   "metadata": {},
   "outputs": [],
   "source": [
    "from pathlib import Path\n",
    "\n",
    "from mismatch_comparison import SETTINGS, get_mismatches, check_mismatch"
   ]
  },
  {
   "cell_type": "code",
   "execution_count": 2,
   "id": "ebcea190-b39e-4480-b0b8-b16657bf8881",
   "metadata": {},
   "outputs": [],
   "source": [
    "SETTINGS['REF_BRANCH'] = \"develop\"\n",
    "SETTINGS['TEST_BRANCH'] = \"repeating_containers\"\n",
    "SETTINGS['ROOT'] = Path(\"comparisons\")"
   ]
  },
  {
   "cell_type": "code",
   "execution_count": 3,
   "id": "437a8567-9c1d-4249-828a-838dd217bdcb",
   "metadata": {},
   "outputs": [
    {
     "name": "stdout",
     "output_type": "stream",
     "text": [
      "checking /home/michael/Desktop/pdr-tests/pdr_tests/data/phoenix/tecp_edr/ps048em7_00_00708155c8000j1.dat...dumping ref...dumping test...loading outputs...comparing outputs for TECP_TABLE...Issues found: ['row_count', 'column_count', 'column_names', 'values']......done\n"
     ]
    }
   ],
   "source": [
    "recs, comparisons = get_mismatches(), {}\n",
    "for rec in recs:\n",
    "    comparisons[Path(rec['filename']).stem] = check_mismatch(rec)"
   ]
  }
 ],
 "metadata": {
  "kernelspec": {
   "display_name": "Python 3 (ipykernel)",
   "language": "python",
   "name": "python3"
  },
  "language_info": {
   "codemirror_mode": {
    "name": "ipython",
    "version": 3
   },
   "file_extension": ".py",
   "mimetype": "text/x-python",
   "name": "python",
   "nbconvert_exporter": "python",
   "pygments_lexer": "ipython3",
   "version": "3.12.0"
  }
 },
 "nbformat": 4,
 "nbformat_minor": 5
}
