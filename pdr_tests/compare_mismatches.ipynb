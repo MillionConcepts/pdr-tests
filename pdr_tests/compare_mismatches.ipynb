{
 "cells": [
  {
   "cell_type": "code",
   "execution_count": 1,
   "id": "e4297d44-f0f3-402c-bd72-778c58ff002c",
   "metadata": {},
   "outputs": [],
   "source": [
    "from pathlib import Path\n",
    "\n",
    "from mismatch_comparison import SETTINGS, get_mismatches, check_mismatch"
   ]
  },
  {
   "cell_type": "code",
   "execution_count": 2,
   "id": "ebcea190-b39e-4480-b0b8-b16657bf8881",
   "metadata": {},
   "outputs": [],
   "source": [
    "SETTINGS['REF_BRANCH'] = \"develop\"\n",
    "SETTINGS['TEST_BRANCH'] = \"repeating_containers\"\n",
    "SETTINGS['ROOT'] = Path(\"comparisons\")"
   ]
  },
  {
   "cell_type": "markdown",
   "id": "1a21781a-a56a-4f35-8135-8ce985ba0945",
   "metadata": {},
   "source": [
    "If the cell below is not outputting anything, you can fix this by rerunning `ix test` on each branch first. If the cell below is hitting an error on `git checkout` it's because you have uncommitted/stashed changes."
   ]
  },
  {
   "cell_type": "code",
   "execution_count": null,
   "id": "437a8567-9c1d-4249-828a-838dd217bdcb",
   "metadata": {},
   "outputs": [],
   "source": [
    "recs, comparisons, failures = get_mismatches(), {}, {}\n",
    "for rec in recs:\n",
    "    stem = Path(rec['filename']).stem\n",
    "    comparisons[stem], failures[stem] = check_mismatch(rec)"
   ]
  }
 ],
 "metadata": {
  "kernelspec": {
   "display_name": "Python 3 (ipykernel)",
   "language": "python",
   "name": "python3"
  },
  "language_info": {
   "codemirror_mode": {
    "name": "ipython",
    "version": 3
   },
   "file_extension": ".py",
   "mimetype": "text/x-python",
   "name": "python",
   "nbconvert_exporter": "python",
   "pygments_lexer": "ipython3",
   "version": "3.12.0"
  }
 },
 "nbformat": 4,
 "nbformat_minor": 5
}
