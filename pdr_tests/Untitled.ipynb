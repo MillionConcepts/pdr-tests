{
 "cells": [
  {
   "cell_type": "code",
   "execution_count": 1,
   "id": "22628208-ebc2-4144-a3bf-3adbde17ae54",
   "metadata": {},
   "outputs": [],
   "source": [
    "from pdr_tests.utilz.coverage_utilz import load_and_count"
   ]
  },
  {
   "cell_type": "code",
   "execution_count": 2,
   "id": "a24f468f-17ba-4c3a-9e1a-4e62b2b42dc5",
   "metadata": {},
   "outputs": [],
   "source": [
    "manifest = \"node_manifests/coverage manifests/atm_coverage.parquet\"\n",
    "\n",
    "metrics, uncovered_extensions = load_and_count(manifest)"
   ]
  },
  {
   "cell_type": "code",
   "execution_count": 16,
   "id": "588e1449-81a8-4074-8be4-ef77ab6a4539",
   "metadata": {},
   "outputs": [
    {
     "name": "stdout",
     "output_type": "stream",
     "text": [
      "{'value': 'PDS/data/PDS4/juno_jiram_bundle', 'count': 820651, 'datasets_ix': ['juno_jiram'], 'ptypes': ['IMG_RDR', 'LOG_IMG_RDR', 'LOG_SPE_RDR', 'SPE_RDR', 'IMG_EDR', 'LOG_IMG_EDR', 'LOG_SPE_EDR', 'SPE_EDR'], 'n_datasets_ix': 1, 'n_ptypes': 8, 'n_covered': 273501, 'n_uncovered': 10, 'coverage': 0.9999634383991869}\n",
      "{'value': 'PDS/data/couvis_0001', 'count': 9791, 'datasets_ix': ['cassini_uvis'], 'ptypes': ['euv', 'fuv', 'hdac'], 'n_datasets_ix': 1, 'n_ptypes': 3, 'n_covered': 2811, 'n_uncovered': 2090, 'coverage': 0.5735564170577433}\n",
      "{'value': 'PDS/data/couvis_0002', 'count': 6942, 'datasets_ix': ['cassini_uvis'], 'ptypes': ['euv', 'fuv', 'hdac'], 'n_datasets_ix': 1, 'n_ptypes': 3, 'n_covered': 1955, 'n_uncovered': 1524, 'coverage': 0.5619430870939925}\n",
      "{'value': 'PDS/data/couvis_0003', 'count': 51150, 'datasets_ix': ['cassini_uvis'], 'ptypes': ['euv', 'fuv', 'hdac'], 'n_datasets_ix': 1, 'n_ptypes': 3, 'n_covered': 15228, 'n_uncovered': 10351, 'coverage': 0.5953321083701474}\n",
      "{'value': 'PDS/data/couvis_0004', 'count': 22317, 'datasets_ix': ['cassini_uvis'], 'ptypes': ['euv', 'fuv', 'hdac'], 'n_datasets_ix': 1, 'n_ptypes': 3, 'n_covered': 6807, 'n_uncovered': 4359, 'coverage': 0.6096184846856528}\n",
      "{'value': 'PDS/data/couvis_0005', 'count': 17482, 'datasets_ix': ['cassini_uvis'], 'ptypes': ['euv', 'fuv', 'hdac'], 'n_datasets_ix': 1, 'n_ptypes': 3, 'n_covered': 5118, 'n_uncovered': 3630, 'coverage': 0.5850480109739369}\n",
      "{'value': 'PDS/data/couvis_0006', 'count': 54675, 'datasets_ix': ['cassini_uvis'], 'ptypes': ['euv', 'fuv', 'hdac'], 'n_datasets_ix': 1, 'n_ptypes': 3, 'n_covered': 13807, 'n_uncovered': 13538, 'coverage': 0.5049186322910952}\n",
      "{'value': 'PDS/data/couvis_0007', 'count': 26466, 'datasets_ix': ['cassini_uvis'], 'ptypes': ['euv', 'fuv', 'hdac'], 'n_datasets_ix': 1, 'n_ptypes': 3, 'n_covered': 6673, 'n_uncovered': 6568, 'coverage': 0.5039649573295069}\n",
      "{'value': 'PDS/data/couvis_0008', 'count': 19953, 'datasets_ix': ['cassini_uvis'], 'ptypes': ['euv', 'fuv', 'hdac'], 'n_datasets_ix': 1, 'n_ptypes': 3, 'n_covered': 5890, 'n_uncovered': 4094, 'coverage': 0.5899439102564102}\n",
      "{'value': 'PDS/data/couvis_0009', 'count': 5339, 'datasets_ix': ['cassini_uvis'], 'ptypes': ['fuv', 'hdac', 'euv'], 'n_datasets_ix': 1, 'n_ptypes': 3, 'n_covered': 1521, 'n_uncovered': 1156, 'coverage': 0.5681733283526336}\n",
      "{'value': 'PDS/data/couvis_0010', 'count': 5789, 'datasets_ix': ['cassini_uvis'], 'ptypes': ['euv', 'fuv', 'hdac'], 'n_datasets_ix': 1, 'n_ptypes': 3, 'n_covered': 1713, 'n_uncovered': 1189, 'coverage': 0.5902825637491386}\n",
      "{'value': 'PDS/data/couvis_0011', 'count': 5507, 'datasets_ix': ['cassini_uvis'], 'ptypes': ['euv', 'fuv', 'hdac'], 'n_datasets_ix': 1, 'n_ptypes': 3, 'n_covered': 1541, 'n_uncovered': 1220, 'coverage': 0.5581311119159724}\n",
      "{'value': 'PDS/data/couvis_0012', 'count': 7259, 'datasets_ix': ['cassini_uvis'], 'ptypes': ['euv', 'fuv', 'hdac'], 'n_datasets_ix': 1, 'n_ptypes': 3, 'n_covered': 2025, 'n_uncovered': 1612, 'coverage': 0.556777563926313}\n",
      "{'value': 'PDS/data/couvis_0013', 'count': 6961, 'datasets_ix': ['cassini_uvis'], 'ptypes': ['fuv', 'hdac', 'euv'], 'n_datasets_ix': 1, 'n_ptypes': 3, 'n_covered': 2118, 'n_uncovered': 1370, 'coverage': 0.6072247706422018}\n",
      "{'value': 'PDS/data/couvis_0014', 'count': 7539, 'datasets_ix': ['cassini_uvis'], 'ptypes': ['euv', 'fuv', 'hdac'], 'n_datasets_ix': 1, 'n_ptypes': 3, 'n_covered': 2247, 'n_uncovered': 1530, 'coverage': 0.5949166004765687}\n",
      "{'value': 'PDS/data/couvis_0015', 'count': 3509, 'datasets_ix': ['cassini_uvis'], 'ptypes': ['euv', 'fuv', 'hdac'], 'n_datasets_ix': 1, 'n_ptypes': 3, 'n_covered': 1038, 'n_uncovered': 724, 'coverage': 0.5891032917139614}\n",
      "{'value': 'PDS/data/couvis_0016', 'count': 6537, 'datasets_ix': ['cassini_uvis'], 'ptypes': ['euv', 'fuv', 'hdac'], 'n_datasets_ix': 1, 'n_ptypes': 3, 'n_covered': 1894, 'n_uncovered': 1382, 'coverage': 0.5781440781440782}\n",
      "{'value': 'PDS/data/couvis_0017', 'count': 11839, 'datasets_ix': ['cassini_uvis'], 'ptypes': ['euv', 'fuv', 'hdac'], 'n_datasets_ix': 1, 'n_ptypes': 3, 'n_covered': 3050, 'n_uncovered': 2877, 'coverage': 0.5145942297958495}\n",
      "{'value': 'PDS/data/couvis_0018', 'count': 10364, 'datasets_ix': ['cassini_uvis'], 'ptypes': ['euv', 'fuv', 'hdac'], 'n_datasets_ix': 1, 'n_ptypes': 3, 'n_covered': 2836, 'n_uncovered': 2354, 'coverage': 0.5464354527938343}\n",
      "{'value': 'PDS/data/couvis_0019', 'count': 9137, 'datasets_ix': ['cassini_uvis'], 'ptypes': ['hdac', 'fuv', 'euv'], 'n_datasets_ix': 1, 'n_ptypes': 3, 'n_covered': 2626, 'n_uncovered': 1950, 'coverage': 0.5738636363636364}\n",
      "{'value': 'PDS/data/couvis_0020', 'count': 20157, 'datasets_ix': ['cassini_uvis'], 'ptypes': ['euv', 'fuv', 'hdac'], 'n_datasets_ix': 1, 'n_ptypes': 3, 'n_covered': 5284, 'n_uncovered': 4803, 'coverage': 0.5238425696440964}\n",
      "{'value': 'PDS/data/couvis_0021', 'count': 6713, 'datasets_ix': ['cassini_uvis'], 'ptypes': ['euv', 'fuv', 'hdac'], 'n_datasets_ix': 1, 'n_ptypes': 3, 'n_covered': 1976, 'n_uncovered': 1389, 'coverage': 0.587221396731055}\n",
      "{'value': 'PDS/data/couvis_0022', 'count': 8551, 'datasets_ix': ['cassini_uvis'], 'ptypes': ['euv', 'fuv', 'hdac'], 'n_datasets_ix': 1, 'n_ptypes': 3, 'n_covered': 2464, 'n_uncovered': 1820, 'coverage': 0.5751633986928104}\n",
      "{'value': 'PDS/data/couvis_0023', 'count': 6662, 'datasets_ix': ['cassini_uvis'], 'ptypes': ['euv', 'fuv', 'hdac'], 'n_datasets_ix': 1, 'n_ptypes': 3, 'n_covered': 1861, 'n_uncovered': 1477, 'coverage': 0.5575194727381666}\n",
      "{'value': 'PDS/data/couvis_0024', 'count': 6465, 'datasets_ix': ['cassini_uvis'], 'ptypes': ['euv', 'fuv', 'hdac'], 'n_datasets_ix': 1, 'n_ptypes': 3, 'n_covered': 1736, 'n_uncovered': 1505, 'coverage': 0.5356371490280778}\n",
      "{'value': 'PDS/data/couvis_0025', 'count': 9255, 'datasets_ix': ['cassini_uvis'], 'ptypes': ['euv', 'fuv', 'hdac'], 'n_datasets_ix': 1, 'n_ptypes': 3, 'n_covered': 2643, 'n_uncovered': 1993, 'coverage': 0.5701035375323554}\n",
      "{'value': 'PDS/data/couvis_0026', 'count': 8258, 'datasets_ix': ['cassini_uvis'], 'ptypes': ['euv', 'fuv', 'hdac'], 'n_datasets_ix': 1, 'n_ptypes': 3, 'n_covered': 2356, 'n_uncovered': 1782, 'coverage': 0.5693571773803769}\n",
      "{'value': 'PDS/data/couvis_0027', 'count': 18333, 'datasets_ix': ['cassini_uvis'], 'ptypes': ['euv', 'fuv', 'hdac'], 'n_datasets_ix': 1, 'n_ptypes': 3, 'n_covered': 4709, 'n_uncovered': 4466, 'coverage': 0.5132425068119891}\n",
      "{'value': 'PDS/data/couvis_0028', 'count': 8622, 'datasets_ix': ['cassini_uvis'], 'ptypes': ['euv', 'fuv', 'hdac'], 'n_datasets_ix': 1, 'n_ptypes': 3, 'n_covered': 2235, 'n_uncovered': 2085, 'coverage': 0.5173611111111112}\n",
      "{'value': 'PDS/data/couvis_0029', 'count': 19619, 'datasets_ix': ['cassini_uvis'], 'ptypes': ['euv', 'fuv', 'hdac'], 'n_datasets_ix': 1, 'n_ptypes': 3, 'n_covered': 5142, 'n_uncovered': 4676, 'coverage': 0.5237319209614993}\n",
      "{'value': 'PDS/data/couvis_0030', 'count': 33171, 'datasets_ix': ['cassini_uvis'], 'ptypes': ['hdac', 'euv', 'fuv'], 'n_datasets_ix': 1, 'n_ptypes': 3, 'n_covered': 8449, 'n_uncovered': 8144, 'coverage': 0.5091906225516785}\n",
      "{'value': 'PDS/data/couvis_0031', 'count': 6590, 'datasets_ix': ['cassini_uvis'], 'ptypes': ['euv', 'fuv', 'hdac'], 'n_datasets_ix': 1, 'n_ptypes': 3, 'n_covered': 1836, 'n_uncovered': 1452, 'coverage': 0.5583941605839416}\n",
      "{'value': 'PDS/data/couvis_0032', 'count': 7421, 'datasets_ix': ['cassini_uvis'], 'ptypes': ['hdac', 'euv', 'fuv'], 'n_datasets_ix': 1, 'n_ptypes': 3, 'n_covered': 2209, 'n_uncovered': 1495, 'coverage': 0.5963822894168467}\n",
      "{'value': 'PDS/data/couvis_0033', 'count': 16517, 'datasets_ix': ['cassini_uvis'], 'ptypes': ['euv', 'fuv', 'hdac'], 'n_datasets_ix': 1, 'n_ptypes': 3, 'n_covered': 4245, 'n_uncovered': 4022, 'coverage': 0.5134873593806701}\n",
      "{'value': 'PDS/data/couvis_0034', 'count': 5091, 'datasets_ix': ['cassini_uvis'], 'ptypes': ['fuv', 'euv', 'hdac'], 'n_datasets_ix': 1, 'n_ptypes': 3, 'n_covered': 1510, 'n_uncovered': 1044, 'coverage': 0.591229444009397}\n",
      "{'value': 'PDS/data/couvis_0035', 'count': 14334, 'datasets_ix': ['cassini_uvis'], 'ptypes': ['fuv', 'euv', 'hdac'], 'n_datasets_ix': 1, 'n_ptypes': 3, 'n_covered': 3725, 'n_uncovered': 3449, 'coverage': 0.5192361304711458}\n",
      "{'value': 'PDS/data/couvis_0036', 'count': 11500, 'datasets_ix': ['cassini_uvis'], 'ptypes': ['hdac', 'euv', 'fuv'], 'n_datasets_ix': 1, 'n_ptypes': 3, 'n_covered': 3072, 'n_uncovered': 2685, 'coverage': 0.5336112558624283}\n",
      "{'value': 'PDS/data/couvis_0037', 'count': 5622, 'datasets_ix': ['cassini_uvis'], 'ptypes': ['euv', 'fuv', 'hdac'], 'n_datasets_ix': 1, 'n_ptypes': 3, 'n_covered': 1522, 'n_uncovered': 1296, 'coverage': 0.5400993612491128}\n",
      "{'value': 'PDS/data/couvis_0038', 'count': 10573, 'datasets_ix': ['cassini_uvis'], 'ptypes': ['hdac', 'fuv', 'euv'], 'n_datasets_ix': 1, 'n_ptypes': 3, 'n_covered': 2928, 'n_uncovered': 2365, 'coverage': 0.5531834498394106}\n",
      "{'value': 'PDS/data/couvis_0039', 'count': 5024, 'datasets_ix': ['cassini_uvis'], 'ptypes': ['fuv', 'euv', 'hdac'], 'n_datasets_ix': 1, 'n_ptypes': 3, 'n_covered': 1425, 'n_uncovered': 1094, 'coverage': 0.5657006748709805}\n",
      "{'value': 'PDS/data/couvis_0040', 'count': 12143, 'datasets_ix': ['cassini_uvis'], 'ptypes': ['euv', 'fuv', 'hdac'], 'n_datasets_ix': 1, 'n_ptypes': 3, 'n_covered': 3186, 'n_uncovered': 2892, 'coverage': 0.5241855873642646}\n",
      "{'value': 'PDS/data/couvis_0041', 'count': 4328, 'datasets_ix': ['cassini_uvis'], 'ptypes': ['euv', 'fuv', 'hdac'], 'n_datasets_ix': 1, 'n_ptypes': 3, 'n_covered': 978, 'n_uncovered': 1196, 'coverage': 0.44986200551977923}\n",
      "{'value': 'PDS/data/couvis_0042', 'count': 4833, 'datasets_ix': ['cassini_uvis'], 'ptypes': ['euv', 'fuv', 'hdac'], 'n_datasets_ix': 1, 'n_ptypes': 3, 'n_covered': 1337, 'n_uncovered': 1068, 'coverage': 0.5559251559251559}\n",
      "{'value': 'PDS/data/couvis_0043', 'count': 5443, 'datasets_ix': ['cassini_uvis'], 'ptypes': ['euv', 'fuv', 'hdac'], 'n_datasets_ix': 1, 'n_ptypes': 3, 'n_covered': 1522, 'n_uncovered': 1210, 'coverage': 0.5571010248901903}\n",
      "{'value': 'PDS/data/couvis_0044', 'count': 23878, 'datasets_ix': ['cassini_uvis'], 'ptypes': ['euv', 'fuv', 'hdac'], 'n_datasets_ix': 1, 'n_ptypes': 3, 'n_covered': 6587, 'n_uncovered': 5362, 'coverage': 0.5512595196250732}\n",
      "{'value': 'PDS/data/couvis_0045', 'count': 11477, 'datasets_ix': ['cassini_uvis'], 'ptypes': ['euv', 'fuv', 'hdac'], 'n_datasets_ix': 1, 'n_ptypes': 3, 'n_covered': 2921, 'n_uncovered': 2828, 'coverage': 0.5080883631935988}\n",
      "{'value': 'PDS/data/couvis_0046', 'count': 4946, 'datasets_ix': ['cassini_uvis'], 'ptypes': ['euv', 'fuv', 'hdac'], 'n_datasets_ix': 1, 'n_ptypes': 3, 'n_covered': 1389, 'n_uncovered': 1094, 'coverage': 0.5594039468385018}\n",
      "{'value': 'PDS/data/couvis_0047', 'count': 8022, 'datasets_ix': ['cassini_uvis'], 'ptypes': ['euv', 'fuv', 'hdac'], 'n_datasets_ix': 1, 'n_ptypes': 3, 'n_covered': 2165, 'n_uncovered': 1856, 'coverage': 0.5384232777915942}\n",
      "{'value': 'PDS/data/couvis_0048', 'count': 22818, 'datasets_ix': ['cassini_uvis'], 'ptypes': ['fuv', 'euv', 'hdac'], 'n_datasets_ix': 1, 'n_ptypes': 3, 'n_covered': 5926, 'n_uncovered': 5493, 'coverage': 0.518959628689027}\n",
      "{'value': 'PDS/data/couvis_0049', 'count': 9792, 'datasets_ix': ['cassini_uvis'], 'ptypes': ['euv', 'fuv', 'hdac'], 'n_datasets_ix': 1, 'n_ptypes': 3, 'n_covered': 2507, 'n_uncovered': 2399, 'coverage': 0.5110069302894416}\n",
      "{'value': 'PDS/data/couvis_0050', 'count': 7217, 'datasets_ix': ['cassini_uvis'], 'ptypes': ['euv', 'fuv', 'hdac'], 'n_datasets_ix': 1, 'n_ptypes': 3, 'n_covered': 1411, 'n_uncovered': 2221, 'coverage': 0.38849118942731276}\n",
      "{'value': 'PDS/data/couvis_0051', 'count': 12601, 'datasets_ix': ['cassini_uvis'], 'ptypes': ['hdac', 'euv', 'fuv'], 'n_datasets_ix': 1, 'n_ptypes': 3, 'n_covered': 2580, 'n_uncovered': 3745, 'coverage': 0.4079051383399209}\n",
      "{'value': 'PDS/data/couvis_0052', 'count': 21339, 'datasets_ix': ['cassini_uvis'], 'ptypes': ['euv', 'fuv', 'hdac'], 'n_datasets_ix': 1, 'n_ptypes': 3, 'n_covered': 3905, 'n_uncovered': 6790, 'coverage': 0.3651238896680692}\n",
      "{'value': 'PDS/data/couvis_0053', 'count': 18442, 'datasets_ix': ['cassini_uvis'], 'ptypes': ['fuv', 'euv', 'hdac'], 'n_datasets_ix': 1, 'n_ptypes': 3, 'n_covered': 3317, 'n_uncovered': 5927, 'coverage': 0.3588273474686283}\n",
      "{'value': 'PDS/data/couvis_0054', 'count': 8427, 'datasets_ix': ['cassini_uvis'], 'ptypes': ['euv', 'fuv', 'hdac'], 'n_datasets_ix': 1, 'n_ptypes': 3, 'n_covered': 1674, 'n_uncovered': 2562, 'coverage': 0.3951841359773371}\n",
      "{'value': 'PDS/data/couvis_0055', 'count': 5859, 'datasets_ix': ['cassini_uvis'], 'ptypes': ['euv', 'fuv', 'hdac'], 'n_datasets_ix': 1, 'n_ptypes': 3, 'n_covered': 1148, 'n_uncovered': 1806, 'coverage': 0.3886255924170616}\n",
      "{'value': 'PDS/data/couvis_0056', 'count': 37701, 'datasets_ix': ['cassini_uvis'], 'ptypes': ['fuv', 'euv', 'hdac'], 'n_datasets_ix': 1, 'n_ptypes': 3, 'n_covered': 6550, 'n_uncovered': 12326, 'coverage': 0.3470014833651197}\n",
      "{'value': 'PDS/data/couvis_0057', 'count': 12638, 'datasets_ix': ['cassini_uvis'], 'ptypes': ['euv', 'fuv', 'hdac'], 'n_datasets_ix': 1, 'n_ptypes': 3, 'n_covered': 2364, 'n_uncovered': 3981, 'coverage': 0.3725768321513002}\n",
      "{'value': 'PDS/data/couvis_0058', 'count': 15669, 'datasets_ix': ['cassini_uvis'], 'ptypes': ['fuv', 'euv', 'hdac'], 'n_datasets_ix': 1, 'n_ptypes': 3, 'n_covered': 3003, 'n_uncovered': 4857, 'coverage': 0.38206106870229006}\n",
      "{'value': 'PDS/data/couvis_0059', 'count': 12870, 'datasets_ix': ['cassini_uvis'], 'ptypes': ['euv', 'fuv', 'hdac'], 'n_datasets_ix': 1, 'n_ptypes': 3, 'n_covered': 2467, 'n_uncovered': 3993, 'coverage': 0.38188854489164087}\n",
      "{'value': 'PDS/data/couvis_0060', 'count': 10404, 'datasets_ix': ['cassini_uvis'], 'ptypes': ['fuv', 'euv', 'hdac'], 'n_datasets_ix': 1, 'n_ptypes': 3, 'n_covered': 1999, 'n_uncovered': 3228, 'coverage': 0.3824373445571073}\n",
      "{'value': 'PDS/data/jnogrv_0001', 'count': 787, 'datasets_ix': ['juno_gs'], 'ptypes': ['EDR_ODF', 'EDR_TNF', 'EDR_RSR'], 'n_datasets_ix': 1, 'n_ptypes': 3, 'n_covered': 138, 'n_uncovered': 196, 'coverage': 0.41317365269461076}\n",
      "{'value': 'PDS/data/jnogrv_1001', 'count': 1274, 'datasets_ix': ['juno_gs'], 'ptypes': ['EDR_ODF', 'EDR_TNF', 'EDR_RSR'], 'n_datasets_ix': 1, 'n_ptypes': 3, 'n_covered': 150, 'n_uncovered': 275, 'coverage': 0.35294117647058826}\n",
      "{'value': 'PDS/data/jnomwr_0000', 'count': 68374, 'datasets_ix': ['juno_mwr'], 'ptypes': ['EDR'], 'n_datasets_ix': 1, 'n_ptypes': 1, 'n_covered': 34174, 'n_uncovered': 2, 'coverage': 0.9999414794007491}\n",
      "{'value': 'PDS/data/jnomwr_0000V1', 'count': 68387, 'datasets_ix': ['juno_mwr'], 'ptypes': ['EDR'], 'n_datasets_ix': 1, 'n_ptypes': 1, 'n_covered': 34174, 'n_uncovered': 8, 'coverage': 0.999765958691709}\n",
      "{'value': 'PDS/data/jnomwr_0100', 'count': 117433, 'datasets_ix': ['juno_mwr'], 'ptypes': ['EDR'], 'n_datasets_ix': 1, 'n_ptypes': 1, 'n_covered': 39124, 'n_uncovered': 13, 'coverage': 0.9996678335079336}\n",
      "{'value': 'PDS/data/jnomwr_1000', 'count': 115863, 'datasets_ix': ['juno_mwr'], 'ptypes': ['GRDR', 'IRDR'], 'n_datasets_ix': 1, 'n_ptypes': 2, 'n_covered': 57918, 'n_uncovered': 2, 'coverage': 0.9999654696132597}\n",
      "{'value': 'PDS/data/jnomwr_1000V1', 'count': 115876, 'datasets_ix': ['juno_mwr'], 'ptypes': ['GRDR', 'IRDR'], 'n_datasets_ix': 1, 'n_ptypes': 2, 'n_covered': 57918, 'n_uncovered': 8, 'coverage': 0.9998618927597279}\n",
      "{'value': 'PDS/data/jnomwr_1100', 'count': 586909, 'datasets_ix': ['juno_mwr'], 'ptypes': ['GRDR', 'EDR', 'IRDR'], 'n_datasets_ix': 1, 'n_ptypes': 3, 'n_covered': 195612, 'n_uncovered': 15, 'coverage': 0.9999233234676195}\n"
     ]
    }
   ],
   "source": [
    "for value in metrics[\"volume\"]:\n",
    "    for key in value.keys():\n",
    "        if key==\"coverage\":\n",
    "            if value[\"coverage\"]!=0.0:\n",
    "                print(value)"
   ]
  },
  {
   "cell_type": "code",
   "execution_count": null,
   "id": "7a563d8d-e3af-4209-9232-aa702d41fa0e",
   "metadata": {},
   "outputs": [],
   "source": []
  }
 ],
 "metadata": {
  "kernelspec": {
   "display_name": "Python 3 (ipykernel)",
   "language": "python",
   "name": "python3"
  },
  "language_info": {
   "codemirror_mode": {
    "name": "ipython",
    "version": 3
   },
   "file_extension": ".py",
   "mimetype": "text/x-python",
   "name": "python",
   "nbconvert_exporter": "python",
   "pygments_lexer": "ipython3",
   "version": "3.9.13"
  }
 },
 "nbformat": 4,
 "nbformat_minor": 5
}
