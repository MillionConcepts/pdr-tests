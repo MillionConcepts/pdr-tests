{
 "cells": [
  {
   "cell_type": "code",
   "execution_count": 1,
   "id": "326697a0-d636-4f8d-93b4-e7e4da2597f8",
   "metadata": {},
   "outputs": [],
   "source": [
    "from pathlib import Path\n",
    "\n",
    "from dustgoggles.mosaic import meta_column_df, meta_record_df\n",
    "from pyarrow import parquet as pq\n",
    "\n",
    "import pdr_tests\n",
    "from pdr_tests.utilz.coverage_utilz import add_coverage_column\n",
    "\n",
    "MANIFEST_DIR = Path(pdr_tests.__file__).parent / \"node_manifests\""
   ]
  },
  {
   "cell_type": "markdown",
   "id": "12d50a7c-b400-4541-98a6-7fd86767cd7f",
   "metadata": {},
   "source": [
    "By default, the input manifest is assumed to live in pdr_tests/node_manifests, so you only have to provide the actual file name. If you want to use a manifest that lives elsewhere, provide a fully-qualified path."
   ]
  },
  {
   "cell_type": "code",
   "execution_count": 2,
   "id": "4147c331-cbae-48de-9a6a-441c398534e9",
   "metadata": {},
   "outputs": [],
   "source": [
    "manifest_name = 'img_usgs_juno_coverage.parquet'\n",
    "manifest_path = MANIFEST_DIR / manifest_name"
   ]
  },
  {
   "cell_type": "code",
   "execution_count": 3,
   "id": "0660268c-4260-4d61-be60-2ad1ed84dd5f",
   "metadata": {},
   "outputs": [
    {
     "data": {
      "text/plain": [
       "<pyarrow._parquet.ParquetSchema object at 0x74371557c880>\n",
       "required group field_id=-1 schema {\n",
       "  optional binary field_id=-1 domain (String);\n",
       "  optional binary field_id=-1 url (String);\n",
       "  optional binary field_id=-1 filename (String);\n",
       "  optional int64 field_id=-1 size (Int(bitWidth=64, isSigned=false));\n",
       "  optional binary field_id=-1 volume (String);\n",
       "  optional binary field_id=-1 dataset_pds (String);\n",
       "  optional binary field_id=-1 dataset_ix (String);\n",
       "  optional binary field_id=-1 ptype (String);\n",
       "  optional binary field_id=-1 label (String);\n",
       "}"
      ]
     },
     "execution_count": 3,
     "metadata": {},
     "output_type": "execute_result"
    }
   ],
   "source": [
    "meta = pq.read_metadata(manifest_path)\n",
    "manifest = pq.read_table(manifest_path)\n",
    "meta.schema"
   ]
  },
  {
   "cell_type": "markdown",
   "id": "94099887-3f55-4f2e-a0ef-266a5624e1c2",
   "metadata": {},
   "source": [
    "`add_coverage_column` is the function that actually produces the coverage manifests used in production. The file is processed in chunks, the number of which depends on how large the input manifest is. The function will print fractions to show the progress as it processes each chunk. The smallest manifests (like many in the geo node) will just output 1/1.\n",
    "\n",
    "The file will be output to the `node_manifests` folder as `{input_manifest_name}_coverage.parquet`. You'll want to then go delete the old `_coverage.parquet` version in your `node_manifests/coverage_manifests` folder and replace it with the new version before proceeding to use the `Coverage_Manifest_Explorer` notebook. That way it will be referencing your newly created coverage manifest instead."
   ]
  },
  {
   "cell_type": "code",
   "execution_count": 8,
   "id": "fc97cee7-a427-4c8f-bef3-55153a2c18bd",
   "metadata": {},
   "outputs": [
    {
     "name": "stdout",
     "output_type": "stream",
     "text": [
      "1/1\n"
     ]
    }
   ],
   "source": [
    "add_coverage_column(MANIFEST_DIR, \"img_usgs_juno_coverage.parquet\")"
   ]
  },
  {
   "cell_type": "code",
   "execution_count": null,
   "id": "6907ce6f-e3b8-422f-b3f0-0830eab9e897",
   "metadata": {},
   "outputs": [],
   "source": []
  }
 ],
 "metadata": {
  "kernelspec": {
   "display_name": "Python 3 (ipykernel)",
   "language": "python",
   "name": "python3"
  },
  "language_info": {
   "codemirror_mode": {
    "name": "ipython",
    "version": 3
   },
   "file_extension": ".py",
   "mimetype": "text/x-python",
   "name": "python",
   "nbconvert_exporter": "python",
   "pygments_lexer": "ipython3",
   "version": "3.12.0"
  }
 },
 "nbformat": 4,
 "nbformat_minor": 5
}
